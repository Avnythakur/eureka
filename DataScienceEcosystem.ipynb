{
 "cells": [
  {
   "cell_type": "markdown",
   "id": "78053f78-0673-4bf7-80ce-745c59f3f809",
   "metadata": {},
   "source": [
    "# Data Science Tools and Ecosystem"
   ]
  },
  {
   "cell_type": "markdown",
   "id": "4dc1eb2b-49ba-4a8b-a2b5-7755ebfd3d62",
   "metadata": {},
   "source": [
    "## In this notebook, Data Science Tools and Ecosystem are summarized."
   ]
  },
  {
   "cell_type": "markdown",
   "id": "ba47e066-4099-48a2-b1e6-cf6a0aef189d",
   "metadata": {},
   "source": [
    "**OBJECTIVE :**\n",
    "* List popular languages for Data Science.\n",
    "* Explain the importance of Jupyter Notebooks in data analysis.\n",
    "* Demonstrate how to perform basic mathematical operations in Python.\n",
    "* Show how to convert units of measurement using Python.\n",
    "* Provide an overview of markdown cells and their usage in Jupyter Notebooks."
   ]
  },
  {
   "cell_type": "markdown",
   "id": "40e7bac3-2e08-4408-ae95-4755d15bd78a",
   "metadata": {},
   "source": [
    "## Some of the popular languages data scientist use are:\n",
    "### 1. Python language\n",
    "### 2. R language\n",
    "### 3. SQL\n",
    "### 4. Java\n",
    "### 5. Julia\n",
    "### 6. Scala\n",
    "### 7. JavaScript"
   ]
  },
  {
   "cell_type": "markdown",
   "id": "5df4932c-56ce-479e-be71-109911cd0484",
   "metadata": {
    "tags": []
   },
   "source": [
    "## Some of the commonly used libraries used by Data Scientist include:\n",
    "### 1. Pandas\n",
    "### 2. Numpy\n",
    "### 3. Matplotlib\n",
    "### 4. Seaborn\n",
    "### 5. Tensorflow\n",
    "### 6. Scikit-learn\n",
    "### 7. Keras\n",
    "### 8. Pytorch"
   ]
  },
  {
   "cell_type": "markdown",
   "id": "c596ef1a-2f25-4449-8af0-ec474392ea83",
   "metadata": {},
   "source": [
    "|Data Science Tools|\n",
    "--------------------\n",
    "|R studio|\n",
    "|Jupyter|\n",
    "|Spyder|"
   ]
  },
  {
   "cell_type": "markdown",
   "id": "d8959dba-3c56-4ff7-a2d5-b971c9351743",
   "metadata": {},
   "source": [
    "### Evaluating the Arithmetic Operations\n"
   ]
  },
  {
   "cell_type": "code",
   "execution_count": 1,
   "id": "29f3c806-b33f-4617-b987-caae6d437d8b",
   "metadata": {
    "tags": []
   },
   "outputs": [
    {
     "data": {
      "text/plain": [
       "210"
      ]
     },
     "execution_count": 1,
     "metadata": {},
     "output_type": "execute_result"
    }
   ],
   "source": [
    "145 + 65"
   ]
  },
  {
   "cell_type": "code",
   "execution_count": 3,
   "id": "48d358c8-1ba1-4c9e-8d6f-cbecacd2cd50",
   "metadata": {
    "tags": []
   },
   "outputs": [
    {
     "data": {
      "text/plain": [
       "2132"
      ]
     },
     "execution_count": 3,
     "metadata": {},
     "output_type": "execute_result"
    }
   ],
   "source": [
    "2897-765"
   ]
  },
  {
   "cell_type": "code",
   "execution_count": 4,
   "id": "a1612c98-fb7b-4dab-8e28-69c74e63a238",
   "metadata": {
    "tags": []
   },
   "outputs": [
    {
     "data": {
      "text/plain": [
       "75"
      ]
     },
     "execution_count": 4,
     "metadata": {},
     "output_type": "execute_result"
    }
   ],
   "source": [
    "25*3"
   ]
  },
  {
   "cell_type": "code",
   "execution_count": 5,
   "id": "eff22794-5ba6-4187-8e7f-91317875f24a",
   "metadata": {
    "tags": []
   },
   "outputs": [
    {
     "data": {
      "text/plain": [
       "28.5"
      ]
     },
     "execution_count": 5,
     "metadata": {},
     "output_type": "execute_result"
    }
   ],
   "source": [
    "57/2"
   ]
  },
  {
   "cell_type": "code",
   "execution_count": 8,
   "id": "984a376f-ace8-4b4d-9695-bec1c906fd71",
   "metadata": {
    "tags": []
   },
   "outputs": [
    {
     "data": {
      "text/plain": [
       "17"
      ]
     },
     "execution_count": 8,
     "metadata": {},
     "output_type": "execute_result"
    }
   ],
   "source": [
    "# This a simple arithmetic expression to mutiply then add integers.\n",
    "(3*4)+5"
   ]
  },
  {
   "cell_type": "code",
   "execution_count": 9,
   "id": "ac1e572b-32f6-4479-a767-77197ea4bca1",
   "metadata": {
    "tags": []
   },
   "outputs": [
    {
     "data": {
      "text/plain": [
       "3.3333333333333335"
      ]
     },
     "execution_count": 9,
     "metadata": {},
     "output_type": "execute_result"
    }
   ],
   "source": [
    "# This will convert 200 minutes to hours by dividing by 60.\n",
    "minutes = 200\n",
    "hours = minutes / 60\n",
    "hours\n"
   ]
  },
  {
   "cell_type": "markdown",
   "id": "023954b7-597c-4b41-835b-521fe484a78d",
   "metadata": {},
   "source": [
    "## Author\n",
    "Aashna Kushwaha\n"
   ]
  },
  {
   "cell_type": "code",
   "execution_count": null,
   "id": "65cfce6a-29cb-4ed3-a997-c382a250b171",
   "metadata": {},
   "outputs": [],
   "source": []
  }
 ],
 "metadata": {
  "kernelspec": {
   "display_name": "Python",
   "language": "python",
   "name": "conda-env-python-py"
  },
  "language_info": {
   "codemirror_mode": {
    "name": "ipython",
    "version": 3
   },
   "file_extension": ".py",
   "mimetype": "text/x-python",
   "name": "python",
   "nbconvert_exporter": "python",
   "pygments_lexer": "ipython3",
   "version": "3.7.12"
  }
 },
 "nbformat": 4,
 "nbformat_minor": 5
}
